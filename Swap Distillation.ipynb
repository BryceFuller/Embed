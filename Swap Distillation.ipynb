{
 "cells": [
  {
   "cell_type": "code",
   "execution_count": 10,
   "metadata": {},
   "outputs": [],
   "source": [
    "import Embed, EmbedHelper, qiskit\n",
    "from qiskit import QuantumCircuit, QuantumProgram\n",
    "import heapq as H"
   ]
  },
  {
   "cell_type": "code",
   "execution_count": 8,
   "metadata": {},
   "outputs": [
    {
     "data": {
      "text/plain": [
       "<qiskit.extensions.standard.cx.CnotGate at 0x112691668>"
      ]
     },
     "execution_count": 8,
     "metadata": {},
     "output_type": "execute_result"
    }
   ],
   "source": [
    "Q_program = QuantumProgram()\n",
    "testcoupling5 = {0: (1,2,3,4), 1:(5,9), 2:(6,10), 3:(7,11), 4:(8,12)}\n",
    "q5 = Q_program.create_quantum_register(\"q5\", 15)\n",
    "c5 = Q_program.create_classical_register(\"c5\", 15)\n",
    "embedtest5 = Q_program.create_circuit(\"qcircuit5\", [q5], [c5])\n",
    "\n",
    "embedtest5.cx(q5[0],q5[1])\n",
    "embedtest5.cx(q5[0],q5[2])\n",
    "embedtest5.h(q5[0])\n",
    "embedtest5.cx(q5[0],q5[3])\n",
    "embedtest5.cx(q5[0],q5[5])\n",
    "embedtest5.cx(q5[5],q5[6])\n",
    "embedtest5.cx(q5[5],q5[7])\n",
    "embedtest5.cx(q5[5],q5[8])\n",
    "embedtest5.cx(q5[5],q5[10])\n",
    "embedtest5.cx(q5[10],q5[11])\n",
    "embedtest5.cx(q5[10],q5[12])\n",
    "embedtest5.cx(q5[10],q5[13])"
   ]
  },
  {
   "cell_type": "code",
   "execution_count": 39,
   "metadata": {},
   "outputs": [],
   "source": [
    "mapA = {0:0,1:1,2:2,3:3,5:4,6:8,7:12,8:10,10:9,11:7,12:11,13:5}\n",
    "mapB = {0:4,1:1,2:10,3:9,5:0,6:8,7:12,8:2,10:3,11:7,12:11,13:5}\n",
    "Sw = [(4,0),(10,2),(9,1),(1,0),(0,3),(1,0),(9,1)]\n",
    "\n",
    "helpers = EmbedHelper.EmbedHelper(embedtest5, testcoupling5)\n",
    "UC = helpers.UndirectedCoupling"
   ]
  },
  {
   "cell_type": "code",
   "execution_count": 231,
   "metadata": {},
   "outputs": [],
   "source": [
    "def score(coupling, targets, node):\n",
    "    score = 0\n",
    "    #print(coupling, targets, node)\n",
    "    for i in UC[node]:\n",
    "        if i in targets:\n",
    "            \n",
    "            score = score + 1\n",
    "    return score\n",
    "\n",
    "def MST(coupling, targs):\n",
    "    MST = {}\n",
    "    \n",
    "    if len(targs) == 0:\n",
    "        assert Exception\n",
    "    \n",
    "    accessible = []\n",
    "    visited = set()\n",
    "    targets = set(targs)\n",
    "    target = targets.pop()\n",
    "    while len(targets) > 0:\n",
    "        \n",
    "        visited.add(target)\n",
    "        tscore = score(UC, targs, target)\n",
    "        \n",
    "        for i in UC[target]:\n",
    "            if i not in visited:\n",
    "                Score = float(1/(score(UC, targs, i) + tscore))\n",
    "                H.heappush(accessible, (Score, (i, target)))\n",
    "     \n",
    "        Min =  H.heappop(accessible)\n",
    "        VisitedNode = Min[1][1]\n",
    "        NewNode = Min[1][0]\n",
    "        \n",
    "        if NewNode in MST:\n",
    "            assert Exception\n",
    "        if VisitedNode not in MST:\n",
    "            MST[VisitedNode] = (NewNode,)\n",
    "        else:      \n",
    "            MST[VisitedNode] = MST[VisitedNode] + (NewNode,)    \n",
    "        MST[NewNode] = (VisitedNode,)\n",
    "      \n",
    "        target = Min[1][0]\n",
    "        if target in targets:\n",
    "            targets.remove(target)\n",
    "      \n",
    "    return MST\n",
    "\n",
    "def hasCycles():\n",
    "    available = set()\n",
    "    visited = set()\n",
    "    node = list(UC)[0]\n",
    "    traceback = {}\n",
    "    while len(available) > 0:\n",
    "        visited.add(node)\n",
    "        for i in UC[node]:\n",
    "            if (i in visited) and (traceback[node] != i) :\n",
    "                return True\n",
    "            available.add((node, i))\n",
    "        newnode = available.pop()  \n",
    "        traceback[newnode[1]] = newnode[0]\n",
    "        node = newnode[1]\n",
    "\n",
    "    return False\n",
    "\n",
    "    "
   ]
  },
  {
   "cell_type": "code",
   "execution_count": 232,
   "metadata": {},
   "outputs": [
    {
     "name": "stdout",
     "output_type": "stream",
     "text": [
      "{0: (1, 2, 3, 4), 1: (5, 9, 0), 2: (6, 10, 0), 3: (7, 11, 0), 4: (8, 12, 0), 5: (1,), 6: (2,), 7: (3,), 8: (4,), 9: (1,), 10: (2,), 11: (3,), 12: (4,)}\n",
      "12\n",
      "{0: (1, 2, 3, 4), 1: (5, 9, 0), 2: (6, 10, 0), 3: (7, 11, 0), 4: (8, 12, 0), 5: (1,), 6: (2,), 7: (3,), 8: (4,), 9: (1,), 10: (2,), 11: (3,), 12: (4,)}\n",
      "{0: (1, 3, 4, 2), 1: (0, 5, 9), 2: (0, 6, 10), 3: (0, 7, 11), 4: (0, 8, 12), 5: (1,), 6: (2,), 7: (3,), 8: (4,), 9: (1,), 10: (2,), 11: (3,), 12: (4,)}\n",
      "False\n"
     ]
    }
   ],
   "source": [
    "mst = MST(testcoupling5, mapA.values())\n",
    "print(mst)\n",
    "print(hasCycles())"
   ]
  },
  {
   "cell_type": "code",
   "execution_count": null,
   "metadata": {
    "collapsed": true
   },
   "outputs": [],
   "source": []
  },
  {
   "cell_type": "code",
   "execution_count": null,
   "metadata": {
    "collapsed": true
   },
   "outputs": [],
   "source": []
  }
 ],
 "metadata": {
  "kernelspec": {
   "display_name": "Python 3",
   "language": "python",
   "name": "python3"
  },
  "language_info": {
   "codemirror_mode": {
    "name": "ipython",
    "version": 3
   },
   "file_extension": ".py",
   "mimetype": "text/x-python",
   "name": "python",
   "nbconvert_exporter": "python",
   "pygments_lexer": "ipython3",
   "version": "3.5.2"
  }
 },
 "nbformat": 4,
 "nbformat_minor": 2
}
